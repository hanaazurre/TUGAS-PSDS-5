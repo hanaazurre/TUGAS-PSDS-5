{
  "cells": [
    {
      "cell_type": "markdown",
      "metadata": {
        "id": "zo6dYq7AYX3s"
      },
      "source": [
        "1. Buatlah fungsi phytagoras dengan input argumennya panjang tinggi dan alas segitiga untuk menghasilkan output sisi miring"
      ]
    },
    {
      "cell_type": "code",
      "execution_count": 1,
      "metadata": {
        "colab": {
          "base_uri": "https://localhost:8080/"
        },
        "id": "ogjc_lZNt7DR",
        "outputId": "aba0b651-fbef-49a9-9c28-e60b5fc5d98f"
      },
      "outputs": [
        {
          "output_type": "stream",
          "name": "stdout",
          "text": [
            "Sisi miring segitiga:  7.810249675906654\n"
          ]
        }
      ],
      "source": [
        "import math\n",
        "def sisi_miring(panjang_tinggi, alas):\n",
        "    sisi_miring = math.sqrt(panjang_tinggi**2 + alas**2)\n",
        "    return sisi_miring\n",
        "\n",
        "tinggi = 5\n",
        "alas = 6\n",
        "sm = sisi_miring(tinggi, alas)\n",
        "print(\"Sisi miring segitiga: \", sm)\n"
      ]
    },
    {
      "cell_type": "markdown",
      "metadata": {
        "id": "QG3HRia1t7DU"
      },
      "source": [
        "2. buatlah function luas permukaan balok dengan input argumennya panjang, lebar, dan tinggi dari balok untuk menghasilkan output nilai luas permukaan balok tersebut"
      ]
    },
    {
      "cell_type": "code",
      "execution_count": 2,
      "metadata": {
        "colab": {
          "base_uri": "https://localhost:8080/"
        },
        "id": "-2AWPLOHt7DV",
        "outputId": "d6a9aa5c-f07a-4a3b-ff62-7b66b1039c35"
      },
      "outputs": [
        {
          "output_type": "stream",
          "name": "stdout",
          "text": [
            "Luas permukaan balok: 552\n"
          ]
        }
      ],
      "source": [
        "def lpbalok(panjang, lebar, tinggi):\n",
        "    luas_permukaan = 2 * ((panjang * lebar) + (panjang * tinggi) + (lebar * tinggi))\n",
        "    return luas_permukaan\n",
        "\n",
        "panjang = 12\n",
        "lebar = 8\n",
        "tinggi = 9\n",
        "lp = lpbalok(panjang, lebar, tinggi)\n",
        "print(\"Luas permukaan balok:\", lp)"
      ]
    },
    {
      "cell_type": "markdown",
      "metadata": {
        "id": "cLsa6sO4t7DW"
      },
      "source": [
        "1. buatlah fungsi lamda untuk menghitung fungsi dari persegi panjang"
      ]
    },
    {
      "cell_type": "code",
      "execution_count": 3,
      "metadata": {
        "colab": {
          "base_uri": "https://localhost:8080/"
        },
        "id": "iv3Q86urYlPC",
        "outputId": "0a9b09a0-976c-471f-b865-351810e0ca8f"
      },
      "outputs": [
        {
          "output_type": "stream",
          "name": "stdout",
          "text": [
            "30\n"
          ]
        }
      ],
      "source": [
        "f = lambda p,l : p*l\n",
        "val5 = f(6,5)\n",
        "print(val5)"
      ]
    },
    {
      "cell_type": "markdown",
      "metadata": {
        "id": "L0ZIJJIzaCdo"
      },
      "source": [
        "2. Buatlah fungsi lambda untuk menghitung luas segitiga"
      ]
    },
    {
      "cell_type": "code",
      "execution_count": null,
      "metadata": {
        "colab": {
          "base_uri": "https://localhost:8080/"
        },
        "id": "4dKhPbTdaHFr",
        "outputId": "b67eaa7d-3c8e-4d5b-b7eb-a6a1451be905"
      },
      "outputs": [
        {
          "name": "stdout",
          "output_type": "stream",
          "text": [
            "25.0\n"
          ]
        }
      ],
      "source": [
        "f = lambda a,t : (a*t)/2\n",
        "val6 = f(5,10)\n",
        "print(val6)"
      ]
    }
  ],
  "metadata": {
    "colab": {
      "provenance": []
    },
    "kernelspec": {
      "display_name": "Python 3",
      "name": "python3"
    },
    "language_info": {
      "codemirror_mode": {
        "name": "ipython",
        "version": 3
      },
      "file_extension": ".py",
      "mimetype": "text/x-python",
      "name": "python",
      "nbconvert_exporter": "python",
      "pygments_lexer": "ipython3",
      "version": "3.11.2"
    }
  },
  "nbformat": 4,
  "nbformat_minor": 0
}